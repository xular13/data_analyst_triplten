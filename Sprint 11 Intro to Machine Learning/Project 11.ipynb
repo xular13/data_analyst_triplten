{
 "cells": [
  {
   "cell_type": "markdown",
   "metadata": {},
   "source": [
    "**Review**\n",
    "\n",
    "Hi, my name is Dmitry and I will be reviewing your project.\n",
    "  \n",
    "You can find my comments in colored markdown cells:\n",
    "  \n",
    "<div class=\"alert alert-success\">\n",
    "  If everything is done successfully.\n",
    "</div>\n",
    "  \n",
    "<div class=\"alert alert-warning\">\n",
    "  If I have some (optional) suggestions, or questions to think about, or general comments.\n",
    "</div>\n",
    "  \n",
    "<div class=\"alert alert-danger\">\n",
    "  If a section requires some corrections. Work can't be accepted with red comments.\n",
    "</div>\n",
    "  \n",
    "Please don't remove my comments, as it will make further review iterations much harder for me.\n",
    "  \n",
    "Feel free to reply to my comments or ask questions using the following template:\n",
    "  \n",
    "<div class=\"alert alert-info\">\n",
    "  For your comments and questions.\n",
    "</div>\n",
    "  \n",
    "First of all, thank you for turning in the project! You did an excellent job! The project is accepted. Good luck on the final sprint!"
   ]
  },
  {
   "cell_type": "markdown",
   "metadata": {},
   "source": [
    "This project utilizes machine learning techniques to build a model for Megaline, capable of analyzing subscriber usage patterns and suggesting appropriate plan upgrades (Smart or Ultra) with an accuracy target of 0.75."
   ]
  },
  {
   "cell_type": "markdown",
   "metadata": {},
   "source": [
    "# Libraries, functions and data reading"
   ]
  },
  {
   "cell_type": "code",
   "execution_count": 98,
   "metadata": {},
   "outputs": [],
   "source": [
    "from sklearn.model_selection import train_test_split \n",
    "import pandas as pd\n",
    "import numpy as np\n",
    "import seaborn as sns\n",
    "from sklearn.preprocessing import MinMaxScaler\n",
    "from sklearn.preprocessing import StandardScaler\n",
    "from sklearn.tree import DecisionTreeClassifier\n",
    "from sklearn.metrics import (\n",
    "    confusion_matrix,\n",
    "    accuracy_score,\n",
    "    precision_score,\n",
    "    recall_score,\n",
    "    f1_score\n",
    ")\n",
    "from sklearn.ensemble import RandomForestClassifier\n",
    "from sklearn.linear_model import LogisticRegression\n",
    "from matplotlib import pyplot as plt"
   ]
  },
  {
   "cell_type": "code",
   "execution_count": 6,
   "metadata": {},
   "outputs": [],
   "source": [
    "data = pd.read_csv('users_behavior.csv')"
   ]
  },
  {
   "cell_type": "code",
   "execution_count": 35,
   "metadata": {},
   "outputs": [],
   "source": [
    "'''\n",
    "Split the data into a training set, a validation set, and a test set with a 60-20-20 ratio. Target variable is 'is_ultra'\n",
    "'''\n",
    "def split_data(data):\n",
    "    X = data.drop('is_ultra', axis=1)\n",
    "    y = data['is_ultra']\n",
    "    X_train, X_val, y_train, y_val = train_test_split(X, y, test_size=0.4, random_state=42)\n",
    "    X_val, X_test, y_val, y_test = train_test_split(X_val, y_val, test_size=0.5, random_state=42)\n",
    "    return X_train, X_val, X_test, y_train, y_val,  y_test"
   ]
  },
  {
   "cell_type": "markdown",
   "metadata": {},
   "source": [
    "# EDA"
   ]
  },
  {
   "cell_type": "code",
   "execution_count": 11,
   "metadata": {},
   "outputs": [
    {
     "data": {
      "text/html": [
       "<div>\n",
       "<style scoped>\n",
       "    .dataframe tbody tr th:only-of-type {\n",
       "        vertical-align: middle;\n",
       "    }\n",
       "\n",
       "    .dataframe tbody tr th {\n",
       "        vertical-align: top;\n",
       "    }\n",
       "\n",
       "    .dataframe thead th {\n",
       "        text-align: right;\n",
       "    }\n",
       "</style>\n",
       "<table border=\"1\" class=\"dataframe\">\n",
       "  <thead>\n",
       "    <tr style=\"text-align: right;\">\n",
       "      <th></th>\n",
       "      <th>calls</th>\n",
       "      <th>minutes</th>\n",
       "      <th>messages</th>\n",
       "      <th>mb_used</th>\n",
       "      <th>is_ultra</th>\n",
       "    </tr>\n",
       "  </thead>\n",
       "  <tbody>\n",
       "    <tr>\n",
       "      <th>294</th>\n",
       "      <td>69.0</td>\n",
       "      <td>512.46</td>\n",
       "      <td>6.0</td>\n",
       "      <td>20024.92</td>\n",
       "      <td>0</td>\n",
       "    </tr>\n",
       "    <tr>\n",
       "      <th>1102</th>\n",
       "      <td>112.0</td>\n",
       "      <td>751.77</td>\n",
       "      <td>0.0</td>\n",
       "      <td>16809.95</td>\n",
       "      <td>1</td>\n",
       "    </tr>\n",
       "    <tr>\n",
       "      <th>1762</th>\n",
       "      <td>87.0</td>\n",
       "      <td>638.92</td>\n",
       "      <td>31.0</td>\n",
       "      <td>12613.15</td>\n",
       "      <td>0</td>\n",
       "    </tr>\n",
       "    <tr>\n",
       "      <th>1225</th>\n",
       "      <td>77.0</td>\n",
       "      <td>524.86</td>\n",
       "      <td>85.0</td>\n",
       "      <td>20894.06</td>\n",
       "      <td>0</td>\n",
       "    </tr>\n",
       "    <tr>\n",
       "      <th>1745</th>\n",
       "      <td>64.0</td>\n",
       "      <td>421.16</td>\n",
       "      <td>5.0</td>\n",
       "      <td>15757.01</td>\n",
       "      <td>0</td>\n",
       "    </tr>\n",
       "  </tbody>\n",
       "</table>\n",
       "</div>"
      ],
      "text/plain": [
       "      calls  minutes  messages   mb_used  is_ultra\n",
       "294    69.0   512.46       6.0  20024.92         0\n",
       "1102  112.0   751.77       0.0  16809.95         1\n",
       "1762   87.0   638.92      31.0  12613.15         0\n",
       "1225   77.0   524.86      85.0  20894.06         0\n",
       "1745   64.0   421.16       5.0  15757.01         0"
      ]
     },
     "execution_count": 11,
     "metadata": {},
     "output_type": "execute_result"
    }
   ],
   "source": [
    "data.sample(5)"
   ]
  },
  {
   "cell_type": "code",
   "execution_count": 12,
   "metadata": {},
   "outputs": [
    {
     "data": {
      "text/plain": [
       "calls       0\n",
       "minutes     0\n",
       "messages    0\n",
       "mb_used     0\n",
       "is_ultra    0\n",
       "dtype: int64"
      ]
     },
     "execution_count": 12,
     "metadata": {},
     "output_type": "execute_result"
    }
   ],
   "source": [
    "data.isnull().sum()"
   ]
  },
  {
   "cell_type": "code",
   "execution_count": 13,
   "metadata": {},
   "outputs": [
    {
     "data": {
      "text/plain": [
       "0"
      ]
     },
     "execution_count": 13,
     "metadata": {},
     "output_type": "execute_result"
    }
   ],
   "source": [
    "data.duplicated().sum()"
   ]
  },
  {
   "cell_type": "code",
   "execution_count": 14,
   "metadata": {},
   "outputs": [
    {
     "data": {
      "text/html": [
       "<div>\n",
       "<style scoped>\n",
       "    .dataframe tbody tr th:only-of-type {\n",
       "        vertical-align: middle;\n",
       "    }\n",
       "\n",
       "    .dataframe tbody tr th {\n",
       "        vertical-align: top;\n",
       "    }\n",
       "\n",
       "    .dataframe thead th {\n",
       "        text-align: right;\n",
       "    }\n",
       "</style>\n",
       "<table border=\"1\" class=\"dataframe\">\n",
       "  <thead>\n",
       "    <tr style=\"text-align: right;\">\n",
       "      <th></th>\n",
       "      <th>calls</th>\n",
       "      <th>minutes</th>\n",
       "      <th>messages</th>\n",
       "      <th>mb_used</th>\n",
       "      <th>is_ultra</th>\n",
       "    </tr>\n",
       "  </thead>\n",
       "  <tbody>\n",
       "    <tr>\n",
       "      <th>count</th>\n",
       "      <td>3214.000000</td>\n",
       "      <td>3214.000000</td>\n",
       "      <td>3214.000000</td>\n",
       "      <td>3214.000000</td>\n",
       "      <td>3214.000000</td>\n",
       "    </tr>\n",
       "    <tr>\n",
       "      <th>mean</th>\n",
       "      <td>63.038892</td>\n",
       "      <td>438.208787</td>\n",
       "      <td>38.281269</td>\n",
       "      <td>17207.673836</td>\n",
       "      <td>0.306472</td>\n",
       "    </tr>\n",
       "    <tr>\n",
       "      <th>std</th>\n",
       "      <td>33.236368</td>\n",
       "      <td>234.569872</td>\n",
       "      <td>36.148326</td>\n",
       "      <td>7570.968246</td>\n",
       "      <td>0.461100</td>\n",
       "    </tr>\n",
       "    <tr>\n",
       "      <th>min</th>\n",
       "      <td>0.000000</td>\n",
       "      <td>0.000000</td>\n",
       "      <td>0.000000</td>\n",
       "      <td>0.000000</td>\n",
       "      <td>0.000000</td>\n",
       "    </tr>\n",
       "    <tr>\n",
       "      <th>25%</th>\n",
       "      <td>40.000000</td>\n",
       "      <td>274.575000</td>\n",
       "      <td>9.000000</td>\n",
       "      <td>12491.902500</td>\n",
       "      <td>0.000000</td>\n",
       "    </tr>\n",
       "    <tr>\n",
       "      <th>50%</th>\n",
       "      <td>62.000000</td>\n",
       "      <td>430.600000</td>\n",
       "      <td>30.000000</td>\n",
       "      <td>16943.235000</td>\n",
       "      <td>0.000000</td>\n",
       "    </tr>\n",
       "    <tr>\n",
       "      <th>75%</th>\n",
       "      <td>82.000000</td>\n",
       "      <td>571.927500</td>\n",
       "      <td>57.000000</td>\n",
       "      <td>21424.700000</td>\n",
       "      <td>1.000000</td>\n",
       "    </tr>\n",
       "    <tr>\n",
       "      <th>max</th>\n",
       "      <td>244.000000</td>\n",
       "      <td>1632.060000</td>\n",
       "      <td>224.000000</td>\n",
       "      <td>49745.730000</td>\n",
       "      <td>1.000000</td>\n",
       "    </tr>\n",
       "  </tbody>\n",
       "</table>\n",
       "</div>"
      ],
      "text/plain": [
       "             calls      minutes     messages       mb_used     is_ultra\n",
       "count  3214.000000  3214.000000  3214.000000   3214.000000  3214.000000\n",
       "mean     63.038892   438.208787    38.281269  17207.673836     0.306472\n",
       "std      33.236368   234.569872    36.148326   7570.968246     0.461100\n",
       "min       0.000000     0.000000     0.000000      0.000000     0.000000\n",
       "25%      40.000000   274.575000     9.000000  12491.902500     0.000000\n",
       "50%      62.000000   430.600000    30.000000  16943.235000     0.000000\n",
       "75%      82.000000   571.927500    57.000000  21424.700000     1.000000\n",
       "max     244.000000  1632.060000   224.000000  49745.730000     1.000000"
      ]
     },
     "execution_count": 14,
     "metadata": {},
     "output_type": "execute_result"
    }
   ],
   "source": [
    "data.describe()"
   ]
  },
  {
   "cell_type": "code",
   "execution_count": 103,
   "metadata": {},
   "outputs": [
    {
     "data": {
      "text/plain": [
       "is_ultra\n",
       "0    2229\n",
       "1     985\n",
       "Name: count, dtype: int64"
      ]
     },
     "execution_count": 103,
     "metadata": {},
     "output_type": "execute_result"
    }
   ],
   "source": [
    "data.is_ultra.value_counts()"
   ]
  },
  {
   "cell_type": "code",
   "execution_count": 18,
   "metadata": {},
   "outputs": [
    {
     "data": {
      "text/plain": [
       "<Axes: >"
      ]
     },
     "execution_count": 18,
     "metadata": {},
     "output_type": "execute_result"
    },
    {
     "data": {
      "image/png": "[encoded data removed]",
      "text/plain": [
       "<Figure size 640x480 with 2 Axes>"
      ]
     },
     "metadata": {},
     "output_type": "display_data"
    }
   ],
   "source": [
    "sns.heatmap(data.corr(), annot=True)"
   ]
  },
  {
   "cell_type": "markdown",
   "metadata": {},
   "source": [
    "As we can see that there is great correlattion between minutes and calls. Lets drop calls from dataset."
   ]
  },
  {
   "cell_type": "markdown",
   "metadata": {},
   "source": [
    "<div class=\"alert alert-success\">\n",
    "<b>Reviewer's comment</b>\n",
    "\n",
    "Good point!\n",
    "\n",
    "</div>"
   ]
  },
  {
   "cell_type": "code",
   "execution_count": 21,
   "metadata": {},
   "outputs": [],
   "source": [
    "clean_data = data.drop(['calls'], axis=1)"
   ]
  },
  {
   "cell_type": "code",
   "execution_count": 22,
   "metadata": {},
   "outputs": [
    {
     "data": {
      "text/html": [
       "<div>\n",
       "<style scoped>\n",
       "    .dataframe tbody tr th:only-of-type {\n",
       "        vertical-align: middle;\n",
       "    }\n",
       "\n",
       "    .dataframe tbody tr th {\n",
       "        vertical-align: top;\n",
       "    }\n",
       "\n",
       "    .dataframe thead th {\n",
       "        text-align: right;\n",
       "    }\n",
       "</style>\n",
       "<table border=\"1\" class=\"dataframe\">\n",
       "  <thead>\n",
       "    <tr style=\"text-align: right;\">\n",
       "      <th></th>\n",
       "      <th>minutes</th>\n",
       "      <th>messages</th>\n",
       "      <th>mb_used</th>\n",
       "      <th>is_ultra</th>\n",
       "    </tr>\n",
       "  </thead>\n",
       "  <tbody>\n",
       "    <tr>\n",
       "      <th>2593</th>\n",
       "      <td>761.57</td>\n",
       "      <td>0.0</td>\n",
       "      <td>21046.27</td>\n",
       "      <td>0</td>\n",
       "    </tr>\n",
       "    <tr>\n",
       "      <th>1628</th>\n",
       "      <td>509.61</td>\n",
       "      <td>4.0</td>\n",
       "      <td>26802.84</td>\n",
       "      <td>0</td>\n",
       "    </tr>\n",
       "    <tr>\n",
       "      <th>1007</th>\n",
       "      <td>550.58</td>\n",
       "      <td>25.0</td>\n",
       "      <td>18322.63</td>\n",
       "      <td>0</td>\n",
       "    </tr>\n",
       "    <tr>\n",
       "      <th>1754</th>\n",
       "      <td>547.31</td>\n",
       "      <td>58.0</td>\n",
       "      <td>13829.37</td>\n",
       "      <td>0</td>\n",
       "    </tr>\n",
       "    <tr>\n",
       "      <th>2532</th>\n",
       "      <td>107.80</td>\n",
       "      <td>0.0</td>\n",
       "      <td>13907.09</td>\n",
       "      <td>0</td>\n",
       "    </tr>\n",
       "  </tbody>\n",
       "</table>\n",
       "</div>"
      ],
      "text/plain": [
       "      minutes  messages   mb_used  is_ultra\n",
       "2593   761.57       0.0  21046.27         0\n",
       "1628   509.61       4.0  26802.84         0\n",
       "1007   550.58      25.0  18322.63         0\n",
       "1754   547.31      58.0  13829.37         0\n",
       "2532   107.80       0.0  13907.09         0"
      ]
     },
     "execution_count": 22,
     "metadata": {},
     "output_type": "execute_result"
    }
   ],
   "source": [
    "clean_data.sample(5)"
   ]
  },
  {
   "cell_type": "code",
   "execution_count": 30,
   "metadata": {},
   "outputs": [
    {
     "data": {
      "text/html": [
       "<div>\n",
       "<style scoped>\n",
       "    .dataframe tbody tr th:only-of-type {\n",
       "        vertical-align: middle;\n",
       "    }\n",
       "\n",
       "    .dataframe tbody tr th {\n",
       "        vertical-align: top;\n",
       "    }\n",
       "\n",
       "    .dataframe thead th {\n",
       "        text-align: right;\n",
       "    }\n",
       "</style>\n",
       "<table border=\"1\" class=\"dataframe\">\n",
       "  <thead>\n",
       "    <tr style=\"text-align: right;\">\n",
       "      <th></th>\n",
       "      <th>minutes</th>\n",
       "      <th>messages</th>\n",
       "      <th>mb_used</th>\n",
       "      <th>is_ultra</th>\n",
       "    </tr>\n",
       "  </thead>\n",
       "  <tbody>\n",
       "    <tr>\n",
       "      <th>1624</th>\n",
       "      <td>0.300712</td>\n",
       "      <td>0.160714</td>\n",
       "      <td>0.410538</td>\n",
       "      <td>0.0</td>\n",
       "    </tr>\n",
       "    <tr>\n",
       "      <th>141</th>\n",
       "      <td>0.283145</td>\n",
       "      <td>0.053571</td>\n",
       "      <td>0.376009</td>\n",
       "      <td>0.0</td>\n",
       "    </tr>\n",
       "    <tr>\n",
       "      <th>757</th>\n",
       "      <td>0.325527</td>\n",
       "      <td>0.486607</td>\n",
       "      <td>0.391932</td>\n",
       "      <td>1.0</td>\n",
       "    </tr>\n",
       "    <tr>\n",
       "      <th>1733</th>\n",
       "      <td>0.289922</td>\n",
       "      <td>0.075893</td>\n",
       "      <td>0.272113</td>\n",
       "      <td>0.0</td>\n",
       "    </tr>\n",
       "    <tr>\n",
       "      <th>1282</th>\n",
       "      <td>0.460173</td>\n",
       "      <td>0.200893</td>\n",
       "      <td>0.431601</td>\n",
       "      <td>1.0</td>\n",
       "    </tr>\n",
       "  </tbody>\n",
       "</table>\n",
       "</div>"
      ],
      "text/plain": [
       "       minutes  messages   mb_used  is_ultra\n",
       "1624  0.300712  0.160714  0.410538       0.0\n",
       "141   0.283145  0.053571  0.376009       0.0\n",
       "757   0.325527  0.486607  0.391932       1.0\n",
       "1733  0.289922  0.075893  0.272113       0.0\n",
       "1282  0.460173  0.200893  0.431601       1.0"
      ]
     },
     "execution_count": 30,
     "metadata": {},
     "output_type": "execute_result"
    }
   ],
   "source": [
    "scaler = MinMaxScaler()\n",
    "normalized_data = scaler.fit_transform(clean_data)\n",
    "normalized_data = pd.DataFrame(normalized_data, columns=clean_data.columns)\n",
    "normalized_data.sample(5)"
   ]
  },
  {
   "cell_type": "markdown",
   "metadata": {},
   "source": [
    "<div class=\"alert alert-warning\">\n",
    "<b>Reviewer's comment</b>\n",
    "\n",
    "Scaling should be applied after splitting the data into train/validation/test with the scaler fit using the train set to avoid potential data leakage\n",
    "\n",
    "</div>"
   ]
  },
  {
   "cell_type": "markdown",
   "metadata": {},
   "source": [
    "# Spliting data into train, validation and test sets"
   ]
  },
  {
   "cell_type": "code",
   "execution_count": 122,
   "metadata": {},
   "outputs": [],
   "source": [
    "X_train, X_val, X_test, y_train, y_val,  y_test = split_data(clean_data)\n",
    "X_train_f = pd.concat([X_train, X_val], axis=0) # for final model\n",
    "y_train_f = pd.concat([y_train, y_val], axis=0) # for final model"
   ]
  },
  {
   "cell_type": "markdown",
   "metadata": {},
   "source": [
    "<div class=\"alert alert-success\">\n",
    "<b>Reviewer's comment</b>\n",
    "\n",
    "The data split is reasonable\n",
    "\n",
    "</div>"
   ]
  },
  {
   "cell_type": "markdown",
   "metadata": {},
   "source": [
    "# Decision Tree Classifier"
   ]
  },
  {
   "cell_type": "code",
   "execution_count": 123,
   "metadata": {},
   "outputs": [
    {
     "data": {
      "text/plain": [
       "0.7045101088646968"
      ]
     },
     "execution_count": 123,
     "metadata": {},
     "output_type": "execute_result"
    }
   ],
   "source": [
    "dtc_model = DecisionTreeClassifier(random_state=42)\n",
    "dtc_model.fit(X_train, y_train)\n",
    "dtc_predictions = dtc_model.predict(X_val)\n",
    "dtc_accuracy = accuracy_score(y_val, dtc_predictions)\n",
    "dtc_accuracy"
   ]
  },
  {
   "cell_type": "code",
   "execution_count": 124,
   "metadata": {},
   "outputs": [
    {
     "data": {
      "text/plain": [
       "30"
      ]
     },
     "execution_count": 124,
     "metadata": {},
     "output_type": "execute_result"
    }
   ],
   "source": [
    "dtc_model.tree_.max_depth"
   ]
  },
  {
   "cell_type": "markdown",
   "metadata": {},
   "source": [
    "Depth is 30 which is too high."
   ]
  },
  {
   "cell_type": "code",
   "execution_count": 125,
   "metadata": {},
   "outputs": [
    {
     "name": "stdout",
     "output_type": "stream",
     "text": [
      "Depth: 1 Accuracy: 0.7309486780715396\n",
      "Depth: 2 Accuracy: 0.7822706065318819\n",
      "Depth: 3 Accuracy: 0.7916018662519441\n",
      "Depth: 4 Accuracy: 0.7776049766718507\n",
      "Depth: 5 Accuracy: 0.7838258164852255\n",
      "Depth: 6 Accuracy: 0.7884914463452566\n",
      "Final depth = 3 with training accuracy: 0.7916018662519441\n"
     ]
    }
   ],
   "source": [
    "final_depth = 0\n",
    "final_score = 0\n",
    "for depth in range(1, 7):\n",
    "    dtc_model = DecisionTreeClassifier(random_state=42, max_depth=depth)\n",
    "    dtc_model.fit(X_train,y_train)\n",
    "    valid_pred = dtc_model.predict(X_val)\n",
    "    accuracy = accuracy_score(y_val, valid_pred)\n",
    "    print(\"Depth:\", depth, \"Accuracy:\", accuracy)\n",
    "    if accuracy > final_score:\n",
    "        final_depth = depth\n",
    "        final_score = accuracy\n",
    "\n",
    "print(\"Final depth =\", final_depth,\"with training accuracy:\",final_score)"
   ]
  },
  {
   "cell_type": "markdown",
   "metadata": {},
   "source": [
    "Best depth for deecision tree classifier is 3."
   ]
  },
  {
   "cell_type": "code",
   "execution_count": 126,
   "metadata": {},
   "outputs": [
    {
     "name": "stdout",
     "output_type": "stream",
     "text": [
      "Final test accuracy: 0.8055987558320373\n"
     ]
    }
   ],
   "source": [
    "final_dtc_model = DecisionTreeClassifier(random_state=42, max_depth=final_depth)\n",
    "final_dtc_model.fit(X_train_f, y_train_f)\n",
    "test_pred = final_dtc_model.predict(X_test)\n",
    "test_accuracy = accuracy_score(y_test, test_pred)\n",
    "final_test_accuracy = {'Decision Tree': test_accuracy}\n",
    "print(\"Final test accuracy:\", test_accuracy)"
   ]
  },
  {
   "cell_type": "code",
   "execution_count": 127,
   "metadata": {},
   "outputs": [
    {
     "data": {
      "image/png": "[encoded data removed]",
      "text/plain": [
       "<Figure size 800x800 with 1 Axes>"
      ]
     },
     "metadata": {},
     "output_type": "display_data"
    }
   ],
   "source": [
    "cm = confusion_matrix(y_test, test_pred)\n",
    "plt.figure(figsize=(8,8))\n",
    "\n",
    " \n",
    "ax = sns.heatmap(\n",
    "    cm, annot=True, fmt='d', \n",
    "    cbar=False, cmap='tab10', vmax=500 \n",
    ")\n",
    " \n",
    "ax.set_xlabel(\"Predicted\", labelpad=20)\n",
    "ax.set_ylabel(\"Actual\", labelpad=20)\n",
    "plt.show()"
   ]
  },
  {
   "cell_type": "code",
   "execution_count": 129,
   "metadata": {},
   "outputs": [
    {
     "name": "stdout",
     "output_type": "stream",
     "text": [
      "Precision: 0.7777777777777778\n",
      "Recall: 0.5025641025641026\n",
      "F1 Score: 0.6105919003115264\n"
     ]
    }
   ],
   "source": [
    "precision = precision_score(y_test, test_pred)\n",
    "recall = recall_score(y_test, test_pred)\n",
    "f1 = f1_score(y_test, test_pred)\n",
    "precision_final = {'Decision Tree': precision}\n",
    "recall_final = {'Decision Tree': recall}\n",
    "f1_final = {'Decision Tree': f1}\n",
    "print(\"Precision:\", precision)\n",
    "print(\"Recall:\", recall)\n",
    "print(\"F1 Score:\", f1)\n"
   ]
  },
  {
   "cell_type": "markdown",
   "metadata": {},
   "source": [
    "<div class=\"alert alert-success\">\n",
    "<b>Reviewer's comment</b>\n",
    "\n",
    "Good idea to look at the confusion matrix, as well as preicision, recall and F1 score to better understand the model's performance\n",
    "\n",
    "</div>"
   ]
  },
  {
   "cell_type": "markdown",
   "metadata": {},
   "source": [
    "# Random Forest"
   ]
  },
  {
   "cell_type": "code",
   "execution_count": 130,
   "metadata": {},
   "outputs": [
    {
     "name": "stdout",
     "output_type": "stream",
     "text": [
      "n_estimators: 1 Accuracy: 0.7060653188180405\n",
      "n_estimators: 2 Accuracy: 0.7589424572317263\n",
      "n_estimators: 3 Accuracy: 0.7698289269051322\n",
      "n_estimators: 4 Accuracy: 0.7853810264385692\n",
      "n_estimators: 5 Accuracy: 0.7651632970451011\n",
      "n_estimators: 6 Accuracy: 0.7822706065318819\n",
      "n_estimators: 7 Accuracy: 0.7729393468118196\n",
      "n_estimators: 8 Accuracy: 0.7853810264385692\n",
      "n_estimators: 9 Accuracy: 0.7807153965785381\n",
      "n_estimators: 10 Accuracy: 0.7776049766718507\n",
      "n_estimators: 11 Accuracy: 0.7744945567651633\n",
      "n_estimators: 12 Accuracy: 0.7807153965785381\n",
      "n_estimators: 13 Accuracy: 0.7776049766718507\n",
      "n_estimators: 14 Accuracy: 0.7838258164852255\n",
      "n_estimators: 15 Accuracy: 0.7822706065318819\n",
      "n_estimators: 16 Accuracy: 0.7931570762052877\n",
      "n_estimators: 17 Accuracy: 0.7931570762052877\n",
      "n_estimators: 18 Accuracy: 0.7947122861586314\n",
      "n_estimators: 19 Accuracy: 0.7900466562986003\n",
      "n_estimators: 20 Accuracy: 0.7978227060653188\n",
      "n_estimators: 21 Accuracy: 0.80248833592535\n",
      "n_estimators: 22 Accuracy: 0.8040435458786936\n",
      "n_estimators: 23 Accuracy: 0.7947122861586314\n",
      "n_estimators: 24 Accuracy: 0.7931570762052877\n",
      "n_estimators: 25 Accuracy: 0.7962674961119751\n",
      "n_estimators: 26 Accuracy: 0.7962674961119751\n",
      "n_estimators: 27 Accuracy: 0.7962674961119751\n",
      "n_estimators: 28 Accuracy: 0.7978227060653188\n",
      "n_estimators: 29 Accuracy: 0.7978227060653188\n",
      "n_estimators: 30 Accuracy: 0.8009331259720062\n",
      "n_estimators: 31 Accuracy: 0.7947122861586314\n",
      "n_estimators: 32 Accuracy: 0.7947122861586314\n",
      "n_estimators: 33 Accuracy: 0.8009331259720062\n",
      "n_estimators: 34 Accuracy: 0.7993779160186625\n",
      "n_estimators: 35 Accuracy: 0.7993779160186625\n",
      "n_estimators: 36 Accuracy: 0.8009331259720062\n",
      "n_estimators: 37 Accuracy: 0.7993779160186625\n",
      "n_estimators: 38 Accuracy: 0.8009331259720062\n",
      "n_estimators: 39 Accuracy: 0.7993779160186625\n",
      "n_estimators: 40 Accuracy: 0.7993779160186625\n",
      "n_estimators: 41 Accuracy: 0.7962674961119751\n",
      "n_estimators: 42 Accuracy: 0.8040435458786936\n",
      "n_estimators: 43 Accuracy: 0.7993779160186625\n",
      "n_estimators: 44 Accuracy: 0.8040435458786936\n",
      "n_estimators: 45 Accuracy: 0.7993779160186625\n",
      "n_estimators: 46 Accuracy: 0.8009331259720062\n",
      "n_estimators: 47 Accuracy: 0.7993779160186625\n",
      "n_estimators: 48 Accuracy: 0.8055987558320373\n",
      "n_estimators: 49 Accuracy: 0.8040435458786936\n",
      "n_estimators: 50 Accuracy: 0.80248833592535\n",
      "n_estimators: 51 Accuracy: 0.8009331259720062\n",
      "n_estimators: 52 Accuracy: 0.7993779160186625\n",
      "n_estimators: 53 Accuracy: 0.7993779160186625\n",
      "n_estimators: 54 Accuracy: 0.8009331259720062\n",
      "n_estimators: 55 Accuracy: 0.8009331259720062\n",
      "n_estimators: 56 Accuracy: 0.7993779160186625\n",
      "n_estimators: 57 Accuracy: 0.7993779160186625\n",
      "n_estimators: 58 Accuracy: 0.7993779160186625\n",
      "n_estimators: 59 Accuracy: 0.7993779160186625\n",
      "n_estimators: 60 Accuracy: 0.80248833592535\n",
      "n_estimators: 61 Accuracy: 0.8040435458786936\n",
      "n_estimators: 62 Accuracy: 0.8040435458786936\n",
      "n_estimators: 63 Accuracy: 0.8009331259720062\n",
      "n_estimators: 64 Accuracy: 0.80248833592535\n",
      "n_estimators: 65 Accuracy: 0.7993779160186625\n",
      "n_estimators: 66 Accuracy: 0.80248833592535\n",
      "n_estimators: 67 Accuracy: 0.7978227060653188\n",
      "n_estimators: 68 Accuracy: 0.8009331259720062\n",
      "n_estimators: 69 Accuracy: 0.7978227060653188\n"
     ]
    }
   ],
   "source": [
    "n_estimators = 0\n",
    "final_score = 0\n",
    "for i in range(1, 70):\n",
    "    rfc_model = RandomForestClassifier(n_estimators=i, random_state=42)\n",
    "    rfc_model.fit(X_train, y_train)\n",
    "    valid_pred = rfc_model.predict(X_val)\n",
    "    accuracy = accuracy_score(y_val, valid_pred)\n",
    "    print(\"n_estimators:\", i, \"Accuracy:\", accuracy)\n",
    "    if accuracy > final_score:\n",
    "        n_estimators = i\n",
    "        final_score = accuracy\n"
   ]
  },
  {
   "cell_type": "code",
   "execution_count": 131,
   "metadata": {},
   "outputs": [
    {
     "name": "stdout",
     "output_type": "stream",
     "text": [
      "Final n_estimators = 48 with training accuracy: 0.8055987558320373\n"
     ]
    }
   ],
   "source": [
    "\n",
    "print(\"Final n_estimators =\", n_estimators,\"with training accuracy:\",final_score)"
   ]
  },
  {
   "cell_type": "markdown",
   "metadata": {},
   "source": [
    "Best n_estimators = 22. Now we will find the best max_depth for the Random Forest Classifier"
   ]
  },
  {
   "cell_type": "code",
   "execution_count": 132,
   "metadata": {},
   "outputs": [
    {
     "name": "stdout",
     "output_type": "stream",
     "text": [
      "max_depth: 1 Accuracy: 0.7309486780715396\n",
      "max_depth: 2 Accuracy: 0.7807153965785381\n",
      "max_depth: 3 Accuracy: 0.7807153965785381\n",
      "max_depth: 4 Accuracy: 0.7838258164852255\n",
      "max_depth: 5 Accuracy: 0.7884914463452566\n",
      "max_depth: 6 Accuracy: 0.7900466562986003\n",
      "max_depth: 7 Accuracy: 0.7931570762052877\n",
      "max_depth: 8 Accuracy: 0.8009331259720062\n",
      "max_depth: 9 Accuracy: 0.8009331259720062\n",
      "max_depth: 10 Accuracy: 0.7993779160186625\n",
      "max_depth: 11 Accuracy: 0.8087091757387247\n",
      "max_depth: 12 Accuracy: 0.8040435458786936\n",
      "max_depth: 13 Accuracy: 0.8055987558320373\n",
      "max_depth: 14 Accuracy: 0.8040435458786936\n",
      "max_depth: 15 Accuracy: 0.8118195956454122\n",
      "max_depth: 16 Accuracy: 0.7947122861586314\n",
      "max_depth: 17 Accuracy: 0.80248833592535\n",
      "max_depth: 18 Accuracy: 0.7947122861586314\n",
      "max_depth: 19 Accuracy: 0.7978227060653188\n",
      "max_depth: 20 Accuracy: 0.7978227060653188\n"
     ]
    }
   ],
   "source": [
    "max_depth = 0\n",
    "final_score = 0\n",
    "for depth in range(1, 21):\n",
    "    rfc_model = RandomForestClassifier(n_estimators=48, max_depth=depth, random_state=42)\n",
    "    rfc_model.fit(X_train, y_train)\n",
    "    valid_pred = rfc_model.predict(X_val)\n",
    "    accuracy = accuracy_score(y_val, valid_pred)\n",
    "    print(\"max_depth:\", depth, \"Accuracy:\", accuracy)\n",
    "    if accuracy > final_score:\n",
    "        max_depth = depth\n",
    "        final_score = accuracy"
   ]
  },
  {
   "cell_type": "code",
   "execution_count": 133,
   "metadata": {},
   "outputs": [
    {
     "name": "stdout",
     "output_type": "stream",
     "text": [
      "Final max_depth = 15 with training accuracy: 0.8118195956454122\n"
     ]
    }
   ],
   "source": [
    "print(\"Final max_depth =\", max_depth,\"with training accuracy:\",final_score)"
   ]
  },
  {
   "cell_type": "markdown",
   "metadata": {},
   "source": [
    "Max depth is 11 for the best accuracy."
   ]
  },
  {
   "cell_type": "code",
   "execution_count": 134,
   "metadata": {},
   "outputs": [
    {
     "name": "stdout",
     "output_type": "stream",
     "text": [
      "Final test accuracy: 0.8180404354587869\n"
     ]
    }
   ],
   "source": [
    "final_rnd_model = RandomForestClassifier(n_estimators=n_estimators, max_depth=max_depth, random_state=42)\n",
    "final_rnd_model.fit(X_train_f, y_train_f)\n",
    "test_pred = final_rnd_model.predict(X_test)\n",
    "test_accuracy = accuracy_score(y_test, test_pred)\n",
    "final_test_accuracy['Random Forest'] = test_accuracy\n",
    "print(\"Final test accuracy:\", test_accuracy)"
   ]
  },
  {
   "cell_type": "code",
   "execution_count": 135,
   "metadata": {},
   "outputs": [
    {
     "data": {
      "image/png": "[encoded data removed]",
      "text/plain": [
       "<Figure size 800x800 with 1 Axes>"
      ]
     },
     "metadata": {},
     "output_type": "display_data"
    }
   ],
   "source": [
    "cm = confusion_matrix(y_test, test_pred)\n",
    "plt.figure(figsize=(8,8))\n",
    "\n",
    " \n",
    "ax = sns.heatmap(\n",
    "    cm, annot=True, fmt='d', \n",
    "    cbar=False, cmap='tab10', vmax=500 \n",
    ")\n",
    " \n",
    "ax.set_xlabel(\"Predicted\", labelpad=20)\n",
    "ax.set_ylabel(\"Actual\", labelpad=20)\n",
    "plt.show()"
   ]
  },
  {
   "cell_type": "code",
   "execution_count": 136,
   "metadata": {},
   "outputs": [
    {
     "name": "stdout",
     "output_type": "stream",
     "text": [
      "Precision: 0.76\n",
      "Recall: 0.5846153846153846\n",
      "F1 Score: 0.6608695652173913\n"
     ]
    }
   ],
   "source": [
    "precision = precision_score(y_test, test_pred)\n",
    "recall = recall_score(y_test, test_pred)\n",
    "f1 = f1_score(y_test, test_pred)\n",
    "precision_final['Random Forest'] = precision\n",
    "recall_final['Random Forest'] = recall\n",
    "f1_final['Random Forest'] = f1\n",
    "\n",
    "print(\"Precision:\", precision)\n",
    "print(\"Recall:\", recall)\n",
    "print(\"F1 Score:\", f1)"
   ]
  },
  {
   "cell_type": "markdown",
   "metadata": {},
   "source": [
    "# Logistic Regression"
   ]
  },
  {
   "cell_type": "code",
   "execution_count": 137,
   "metadata": {},
   "outputs": [
    {
     "name": "stdout",
     "output_type": "stream",
     "text": [
      "Logistic Regression accuracy: 0.7978227060653188\n"
     ]
    }
   ],
   "source": [
    "lr_model = LogisticRegression(random_state=42)\n",
    "lr_model.fit(X_train, y_train)\n",
    "lr_predictions = lr_model.predict(X_val)\n",
    "lr_accuracy = accuracy_score(y_val, valid_pred)\n",
    "print(\"Logistic Regression accuracy:\", lr_accuracy)"
   ]
  },
  {
   "cell_type": "code",
   "execution_count": 138,
   "metadata": {},
   "outputs": [
    {
     "data": {
      "image/png": "[encoded data removed]",
      "text/plain": [
       "<Figure size 800x800 with 1 Axes>"
      ]
     },
     "metadata": {},
     "output_type": "display_data"
    }
   ],
   "source": [
    "cm = confusion_matrix(y_val, lr_predictions)\n",
    "plt.figure(figsize=(8,8))\n",
    "\n",
    " \n",
    "ax = sns.heatmap(\n",
    "    cm, annot=True, fmt='d', \n",
    "    cbar=False, cmap='tab10', vmax=500 \n",
    ")\n",
    " \n",
    "ax.set_xlabel(\"Predicted\", labelpad=20)\n",
    "ax.set_ylabel(\"Actual\", labelpad=20)\n",
    "plt.show()"
   ]
  },
  {
   "cell_type": "code",
   "execution_count": 139,
   "metadata": {},
   "outputs": [
    {
     "name": "stdout",
     "output_type": "stream",
     "text": [
      "Precision: 0.7636363636363637\n",
      "Recall: 0.2131979695431472\n",
      "F1 Score: 0.3333333333333333\n"
     ]
    }
   ],
   "source": [
    "precision = precision_score(y_val, lr_predictions)\n",
    "recall = recall_score(y_val, lr_predictions)\n",
    "f1 = f1_score(y_val, lr_predictions)\n",
    "\n",
    "print(\"Precision:\", precision)\n",
    "print(\"Recall:\", recall)\n",
    "print(\"F1 Score:\", f1)\n"
   ]
  },
  {
   "cell_type": "markdown",
   "metadata": {},
   "source": [
    "There is a chance that after normalisation score will be higher."
   ]
  },
  {
   "cell_type": "markdown",
   "metadata": {},
   "source": [
    "<div class=\"alert alert-success\">\n",
    "<b>Reviewer's comment</b>\n",
    "\n",
    "For logistic regression standard scaling might be a better fit than minmax\n",
    "\n",
    "</div>"
   ]
  },
  {
   "cell_type": "code",
   "execution_count": 142,
   "metadata": {},
   "outputs": [
    {
     "name": "stdout",
     "output_type": "stream",
     "text": [
      "Logistic Regression accuracy: 0.7418351477449455\n"
     ]
    }
   ],
   "source": [
    "X_train_N, X_val_N, X_test_N, y_train_N, y_val_N,  y_test_N = split_data(normalized_data)\n",
    "X_train_f_N = pd.concat([X_train_N, X_val_N], axis=0) # for final model\n",
    "y_train_f_N = pd.concat([y_train_N, y_val_N], axis=0) # for final model\n",
    "lr_model = LogisticRegression(random_state=42)\n",
    "lr_model.fit(X_train_N, y_train_N)\n",
    "lr_predictions = lr_model.predict(X_val_N)\n",
    "lr_accuracy = accuracy_score(y_val_N, lr_predictions)\n",
    "print(\"Logistic Regression accuracy:\", lr_accuracy)"
   ]
  },
  {
   "cell_type": "code",
   "execution_count": 143,
   "metadata": {},
   "outputs": [
    {
     "data": {
      "image/png": "[encoded data removed]",
      "text/plain": [
       "<Figure size 800x800 with 1 Axes>"
      ]
     },
     "metadata": {},
     "output_type": "display_data"
    }
   ],
   "source": [
    "cm = confusion_matrix(y_val, lr_predictions)\n",
    "plt.figure(figsize=(8,8))\n",
    "\n",
    " \n",
    "ax = sns.heatmap(\n",
    "    cm, annot=True, fmt='d', \n",
    "    cbar=False, cmap='tab10', vmax=500 \n",
    ")\n",
    " \n",
    "ax.set_xlabel(\"Predicted\", labelpad=20)\n",
    "ax.set_ylabel(\"Actual\", labelpad=20)\n",
    "plt.show()"
   ]
  },
  {
   "cell_type": "code",
   "execution_count": 144,
   "metadata": {},
   "outputs": [
    {
     "name": "stdout",
     "output_type": "stream",
     "text": [
      "Precision: 0.8163265306122449\n",
      "Recall: 0.20304568527918782\n",
      "F1 Score: 0.3252032520325203\n"
     ]
    }
   ],
   "source": [
    "precision = precision_score(y_val_N, lr_predictions)\n",
    "recall = recall_score(y_val_N, lr_predictions)\n",
    "f1 = f1_score(y_val_N, lr_predictions)\n",
    "\n",
    "print(\"Precision:\", precision)\n",
    "print(\"Recall:\", recall)\n",
    "print(\"F1 Score:\", f1)\n"
   ]
  },
  {
   "cell_type": "code",
   "execution_count": 149,
   "metadata": {},
   "outputs": [
    {
     "name": "stdout",
     "output_type": "stream",
     "text": [
      "Logistic Regression L1 accuracy: 0.7418351477449455\n"
     ]
    }
   ],
   "source": [
    "lr_model_l1 = LogisticRegression(random_state=42, penalty='l1', solver='liblinear')\n",
    "lr_model_l1.fit(X_train_N, y_train_N)\n",
    "lr_predictions = lr_model_l1.predict(X_val_N)\n",
    "lr_accuracy = accuracy_score(y_val_N, lr_predictions)\n",
    "print(\"Logistic Regression L1 accuracy:\", lr_accuracy)"
   ]
  },
  {
   "cell_type": "code",
   "execution_count": 146,
   "metadata": {},
   "outputs": [
    {
     "data": {
      "image/png": "[encoded data removed]",
      "text/plain": [
       "<Figure size 800x800 with 1 Axes>"
      ]
     },
     "metadata": {},
     "output_type": "display_data"
    }
   ],
   "source": [
    "cm = confusion_matrix(y_val, lr_predictions)\n",
    "plt.figure(figsize=(8,8))\n",
    "\n",
    "ax = sns.heatmap(\n",
    "    cm, annot=True, fmt='d', \n",
    "    cbar=False, cmap='tab10', vmax=500 \n",
    ")\n",
    "\n",
    "ax.set_xlabel(\"Predicted\", labelpad=20)\n",
    "ax.set_ylabel(\"Actual\", labelpad=20)\n",
    "plt.show()"
   ]
  },
  {
   "cell_type": "code",
   "execution_count": 147,
   "metadata": {},
   "outputs": [
    {
     "name": "stdout",
     "output_type": "stream",
     "text": [
      "Precision: 0.803921568627451\n",
      "Recall: 0.20812182741116753\n",
      "F1 Score: 0.33064516129032256\n"
     ]
    }
   ],
   "source": [
    "precision = precision_score(y_val_N, lr_predictions)\n",
    "recall = recall_score(y_val_N, lr_predictions)\n",
    "f1 = f1_score(y_val_N, lr_predictions)\n",
    "\n",
    "print(\"Precision:\", precision)\n",
    "print(\"Recall:\", recall)\n",
    "print(\"F1 Score:\", f1)"
   ]
  },
  {
   "cell_type": "code",
   "execution_count": 150,
   "metadata": {},
   "outputs": [
    {
     "name": "stdout",
     "output_type": "stream",
     "text": [
      "Logistic Regression accuracy: 0.7169517884914464\n"
     ]
    }
   ],
   "source": [
    "lr_model_2 = LogisticRegression(random_state=42, C=0.1)\n",
    "lr_model_2.fit(X_train_N, y_train_N)\n",
    "lr_predictions = lr_model_2.predict(X_val_N)\n",
    "lr_accuracy = accuracy_score(y_val_N, lr_predictions)\n",
    "print(\"Logistic Regression accuracy:\", lr_accuracy)"
   ]
  },
  {
   "cell_type": "code",
   "execution_count": 151,
   "metadata": {},
   "outputs": [
    {
     "data": {
      "image/png": "[encoded data removed]",
      "text/plain": [
       "<Figure size 800x800 with 1 Axes>"
      ]
     },
     "metadata": {},
     "output_type": "display_data"
    }
   ],
   "source": [
    "cm = confusion_matrix(y_val, lr_predictions)\n",
    "plt.figure(figsize=(8,8))\n",
    "\n",
    "ax = sns.heatmap(\n",
    "    cm, annot=True, fmt='d', \n",
    "    cbar=False, cmap='tab10', vmax=500 \n",
    ")\n",
    "\n",
    "ax.set_xlabel(\"Predicted\", labelpad=20)\n",
    "ax.set_ylabel(\"Actual\", labelpad=20)\n",
    "plt.show()"
   ]
  },
  {
   "cell_type": "code",
   "execution_count": 153,
   "metadata": {},
   "outputs": [
    {
     "name": "stdout",
     "output_type": "stream",
     "text": [
      "C: 0.01 Accuracy: 0.6936236391912908\n",
      "Precision: 0.0\n",
      "Recall: 0.0\n",
      "F1 Score: 0.0\n",
      "C: 0.1 Accuracy: 0.7169517884914464\n",
      "Precision: 0.8947368421052632\n",
      "Recall: 0.08629441624365482\n",
      "F1 Score: 0.1574074074074074\n",
      "C: 1 Accuracy: 0.7418351477449455\n",
      "Precision: 0.8163265306122449\n",
      "Recall: 0.20304568527918782\n",
      "F1 Score: 0.3252032520325203\n",
      "C: 10 Accuracy: 0.7402799377916018\n",
      "Precision: 0.7777777777777778\n",
      "Recall: 0.2131979695431472\n",
      "F1 Score: 0.3346613545816733\n",
      "C: 100 Accuracy: 0.7402799377916018\n",
      "Precision: 0.7777777777777778\n",
      "Recall: 0.2131979695431472\n",
      "F1 Score: 0.3346613545816733\n"
     ]
    },
    {
     "name": "stderr",
     "output_type": "stream",
     "text": [
      "/Users/alexander/Desktop/ML/.venv/lib/python3.9/site-packages/sklearn/metrics/_classification.py:1497: UndefinedMetricWarning: Precision is ill-defined and being set to 0.0 due to no predicted samples. Use `zero_division` parameter to control this behavior.\n",
      "  _warn_prf(average, modifier, f\"{metric.capitalize()} is\", len(result))\n"
     ]
    }
   ],
   "source": [
    "C_values = [0.01, 0.1, 1, 10, 100]\n",
    "\n",
    "for c in C_values:\n",
    "    lr_model = LogisticRegression(random_state=42, C=c)\n",
    "    lr_model.fit(X_train_N, y_train_N)\n",
    "    lr_predictions = lr_model.predict(X_val_N)\n",
    "    lr_accuracy = accuracy_score(y_val_N, lr_predictions)\n",
    "    print(\"C:\", c, \"Accuracy:\", lr_accuracy)\n",
    "    print(\"Precision:\", precision_score(y_val_N, lr_predictions))\n",
    "    print(\"Recall:\", recall_score(y_val_N, lr_predictions))\n",
    "    print(\"F1 Score:\", f1_score(y_val_N, lr_predictions))"
   ]
  },
  {
   "cell_type": "markdown",
   "metadata": {},
   "source": [
    "Best parameters for the logistic regression model are not clear if we are using not only accuracy score but also precision, recall and f1 score. It is better to use the default parameters for the logistic regression model. Also without normalisation."
   ]
  },
  {
   "cell_type": "code",
   "execution_count": 155,
   "metadata": {},
   "outputs": [
    {
     "name": "stdout",
     "output_type": "stream",
     "text": [
      "Final test accuracy: 0.7636080870917574\n"
     ]
    }
   ],
   "source": [
    "final_lr_model = LogisticRegression(random_state=42)\n",
    "final_lr_model.fit(X_train_f, y_train_f)\n",
    "lr_prerdiction = final_lr_model.predict(X_test)\n",
    "lr_accuracy = accuracy_score(y_test, lr_prerdiction)\n",
    "final_test_accuracy['Logistic Regression'] = lr_accuracy\n",
    "print(\"Final test accuracy:\", lr_accuracy)"
   ]
  },
  {
   "cell_type": "code",
   "execution_count": 156,
   "metadata": {},
   "outputs": [
    {
     "data": {
      "image/png": "[encoded data removed]",
      "text/plain": [
       "<Figure size 800x800 with 1 Axes>"
      ]
     },
     "metadata": {},
     "output_type": "display_data"
    }
   ],
   "source": [
    "cm = confusion_matrix(y_test, lr_prerdiction)\n",
    "plt.figure(figsize=(8,8))\n",
    "\n",
    "ax = sns.heatmap(\n",
    "    cm, annot=True, fmt='d', \n",
    "    cbar=False, cmap='tab10', vmax=500 \n",
    ")\n",
    "\n",
    "ax.set_xlabel(\"Predicted\", labelpad=20)\n",
    "ax.set_ylabel(\"Actual\", labelpad=20)\n",
    "plt.show()"
   ]
  },
  {
   "cell_type": "code",
   "execution_count": 157,
   "metadata": {},
   "outputs": [
    {
     "name": "stdout",
     "output_type": "stream",
     "text": [
      "Precision: 0.8412698412698413\n",
      "Recall: 0.2717948717948718\n",
      "F1 Score: 0.4108527131782946\n"
     ]
    }
   ],
   "source": [
    "precision = precision_score(y_test, lr_prerdiction)\n",
    "recall = recall_score(y_test, lr_prerdiction)\n",
    "f1 = f1_score(y_test, lr_prerdiction)\n",
    "precision_final['Logistic Regression'] = precision\n",
    "recall_final['Logistic Regression'] = recall\n",
    "f1_final['Logistic Regression'] = f1\n",
    "\n",
    "print(\"Precision:\", precision)\n",
    "print(\"Recall:\", recall)\n",
    "print(\"F1 Score:\", f1)\n"
   ]
  },
  {
   "cell_type": "markdown",
   "metadata": {},
   "source": [
    "<div class=\"alert alert-success\">\n",
    "<b>Reviewer's comment</b>\n",
    "\n",
    "Great, you tried a few different models, tuned their hyperparameters using the validation set and evaluated the final models using the test set\n",
    "\n",
    "</div>"
   ]
  },
  {
   "cell_type": "markdown",
   "metadata": {},
   "source": [
    "# Final results and conclusions"
   ]
  },
  {
   "cell_type": "code",
   "execution_count": 159,
   "metadata": {},
   "outputs": [
    {
     "data": {
      "text/html": [
       "<div>\n",
       "<style scoped>\n",
       "    .dataframe tbody tr th:only-of-type {\n",
       "        vertical-align: middle;\n",
       "    }\n",
       "\n",
       "    .dataframe tbody tr th {\n",
       "        vertical-align: top;\n",
       "    }\n",
       "\n",
       "    .dataframe thead th {\n",
       "        text-align: right;\n",
       "    }\n",
       "</style>\n",
       "<table border=\"1\" class=\"dataframe\">\n",
       "  <thead>\n",
       "    <tr style=\"text-align: right;\">\n",
       "      <th></th>\n",
       "      <th>Decision Tree</th>\n",
       "      <th>Random Forest</th>\n",
       "      <th>Logistic Regression</th>\n",
       "    </tr>\n",
       "  </thead>\n",
       "  <tbody>\n",
       "    <tr>\n",
       "      <th>Accuracy</th>\n",
       "      <td>0.805599</td>\n",
       "      <td>0.818040</td>\n",
       "      <td>0.763608</td>\n",
       "    </tr>\n",
       "    <tr>\n",
       "      <th>Precision</th>\n",
       "      <td>0.777778</td>\n",
       "      <td>0.760000</td>\n",
       "      <td>0.841270</td>\n",
       "    </tr>\n",
       "    <tr>\n",
       "      <th>Recall</th>\n",
       "      <td>0.502564</td>\n",
       "      <td>0.584615</td>\n",
       "      <td>0.271795</td>\n",
       "    </tr>\n",
       "    <tr>\n",
       "      <th>F1</th>\n",
       "      <td>0.610592</td>\n",
       "      <td>0.660870</td>\n",
       "      <td>0.410853</td>\n",
       "    </tr>\n",
       "  </tbody>\n",
       "</table>\n",
       "</div>"
      ],
      "text/plain": [
       "           Decision Tree  Random Forest  Logistic Regression\n",
       "Accuracy        0.805599       0.818040             0.763608\n",
       "Precision       0.777778       0.760000             0.841270\n",
       "Recall          0.502564       0.584615             0.271795\n",
       "F1              0.610592       0.660870             0.410853"
      ]
     },
     "metadata": {},
     "output_type": "display_data"
    }
   ],
   "source": [
    "data = [\n",
    "    {'Decision Tree': 0.8055987558320373, 'Random Forest': 0.8180404354587869, 'Logistic Regression': 0.7636080870917574},\n",
    "    {'Decision Tree': 0.7777777777777778, 'Random Forest': 0.76, 'Logistic Regression': 0.8412698412698413},\n",
    "    {'Decision Tree': 0.5025641025641026, 'Random Forest': 0.5846153846153846, 'Logistic Regression': 0.2717948717948718},\n",
    "    {'Decision Tree': 0.6105919003115264, 'Random Forest': 0.6608695652173913, 'Logistic Regression': 0.4108527131782946}\n",
    "]\n",
    "scores = pd.DataFrame(data, index=['Accuracy', 'Precision', 'Recall', 'F1'])\n",
    "display(scores)"
   ]
  },
  {
   "cell_type": "markdown",
   "metadata": {},
   "source": [
    "This project successfully developed Decision Tree, Random Forest classification  and Logistic regression models all achieving an accuracy above 0.75, exceeding the target threshold.  Hyperparameter tuning was critical in optimizing models performance. Best in accuracy, recall and in F1 score is Random Forest. Log regrression is good only in precision. Decision Tree is somewhere in the middle. But after considiration of all scoring in my oppinion the best model is random forest classifier. Deployment of this model will directly empower Megaline to provide targeted plan upgrades.\n"
   ]
  },
  {
   "cell_type": "markdown",
   "metadata": {},
   "source": [
    "<div class=\"alert alert-success\">\n",
    "<b>Reviewer's comment</b>\n",
    "\n",
    "Excellent!\n",
    "\n",
    "</div>"
   ]
  }
 ],
 "metadata": {
  "kernelspec": {
   "display_name": "Python 3 (ipykernel)",
   "language": "python",
   "name": "python3"
  },
  "language_info": {
   "codemirror_mode": {
    "name": "ipython",
    "version": 3
   },
   "file_extension": ".py",
   "mimetype": "text/x-python",
   "name": "python",
   "nbconvert_exporter": "python",
   "pygments_lexer": "ipython3",
   "version": "3.9.19"
  },
  "toc": {
   "base_numbering": 1,
   "nav_menu": {},
   "number_sections": true,
   "sideBar": true,
   "skip_h1_title": true,
   "title_cell": "Table of Contents",
   "title_sidebar": "Contents",
   "toc_cell": false,
   "toc_position": {},
   "toc_section_display": true,
   "toc_window_display": false
  }
 },
 "nbformat": 4,
 "nbformat_minor": 2
}
